{
 "cells": [
  {
   "cell_type": "markdown",
   "metadata": {},
   "source": [
    "## Ejercicio - Escribir declaraciones if, else, y elif"
   ]
  },
  {
   "cell_type": "code",
   "execution_count": 6,
   "metadata": {},
   "outputs": [
    {
     "name": "stdout",
     "output_type": "stream",
     "text": [
      "El valor 1 es menor que el valor 2\n",
      "El valor 3 es mayor que el 2\n"
     ]
    }
   ],
   "source": [
    "valor_1 = 28\n",
    "valor_2 = 30\n",
    "valor_3 = 31\n",
    "if valor_1 < valor_2:\n",
    "    print(\"El valor 1 es menor que el valor 2\")\n",
    "    if valor_3 > valor_2:\n",
    "        print(\"El valor 3 es mayor que el 2\")\n",
    "    else:\n",
    "        print(\"El valor 3 es menor que el 2\")        \n",
    "elif valor_2 > valor_1:\n",
    "    print(\"El valor 2 es mayor que el valor 1\")\n",
    "else:\n",
    "    print(\"Son iguales\")"
   ]
  },
  {
   "cell_type": "code",
   "execution_count": 9,
   "metadata": {},
   "outputs": [
    {
     "name": "stdout",
     "output_type": "stream",
     "text": [
      "CUIDADO!! AHI VIENE UN ASTEROIDE!!!\n"
     ]
    }
   ],
   "source": [
    "#Un asteroide se acerca, y viaja a una velocidad de 49 km/s.\n",
    "vel_asteroid = 49\n",
    "if vel_asteroid > 25:\n",
    "    print(\"CUIDADO!! AHI VIENE UN ASTEROIDE!!!\")\n",
    "else:\n",
    "    print(\"Todo tranquilo\")"
   ]
  },
  {
   "cell_type": "code",
   "execution_count": 26,
   "metadata": {},
   "outputs": [
    {
     "name": "stdout",
     "output_type": "stream",
     "text": [
      "Pasara un asteroide tranquilamente a velocidad de no habra rayo de luz 19km/s\n"
     ]
    }
   ],
   "source": [
    "## Si un asteroide entra en la atmósfera de la Tierra a una velocidad mayor o igual a 20 km/s, a veces produce un rayo de luz que se puede ver desde la Tierra. \n",
    "vel_asteroid = 19\n",
    "if vel_asteroid == 20:\n",
    "    print(\"Se podra ver un rayo de luz ya que es un asteroide con velocidad de: \" +str(vel_asteroid)+\"km/s\")\n",
    "elif vel_asteroid > 20:\n",
    "    print(\"Se podra ver un rayo de luz ya que es un asteroide con velocidad de: \" +str(vel_asteroid)+\"km/s\")\n",
    "else:\n",
    "    print(\"Pasara un asteroide tranquilamente a velocidad de no habra rayo de luz \" + str(vel_asteroid)+\"km/s\")"
   ]
  },
  {
   "cell_type": "markdown",
   "metadata": {},
   "source": [
    "## Ejercicio: Uso de operadores and y or"
   ]
  },
  {
   "cell_type": "code",
   "execution_count": 57,
   "metadata": {},
   "outputs": [
    {
     "name": "stdout",
     "output_type": "stream",
     "text": [
      "No pasara nada por aqui ya que es muy pequeño y viene lento\n"
     ]
    }
   ],
   "source": [
    "##En este ejercicio, aprenderás información más matizada sobre cuándo los asteroides representan un peligro para la Tierra\n",
    "dim_asteroid = 19\n",
    "vel_asteroid = 19\n",
    "if dim_asteroid < 25 and vel_asteroid >= 20:\n",
    "    print(\"Se podra visualizar un rayo del Luz! Mira Arriba!\")\n",
    "elif  dim_asteroid > 25 and vel_asteroid >= 20:\n",
    "    print(\"Un asteroide muy grande se acerca a la tierra y es muy peligroso!!!\")\n",
    "elif vel_asteroid >= 20:\n",
    "    print(\"Se podra ver un rayo de luz\")\n",
    "elif dim_asteroid > 25:\n",
    "    print(\"Un asteroide es muy grande pero viene muy lento\")\n",
    "else:\n",
    "    print(\"No pasara nada por aqui ya que es muy pequeño y viene lento\")"
   ]
  }
 ],
 "metadata": {
  "interpreter": {
   "hash": "aee8b7b246df8f9039afb4144a1f6fd8d2ca17a180786b69acc140d282b71a49"
  },
  "kernelspec": {
   "display_name": "Python 3.10.2 64-bit",
   "language": "python",
   "name": "python3"
  },
  "language_info": {
   "codemirror_mode": {
    "name": "ipython",
    "version": 3
   },
   "file_extension": ".py",
   "mimetype": "text/x-python",
   "name": "python",
   "nbconvert_exporter": "python",
   "pygments_lexer": "ipython3",
   "version": "3.10.2"
  },
  "orig_nbformat": 4
 },
 "nbformat": 4,
 "nbformat_minor": 2
}
